{
 "cells": [
  {
   "cell_type": "markdown",
   "metadata": {},
   "source": [
    "1.1 Write a Python Program(with class concepts) to find the area of the triangle using the below formula. \n",
    " \n",
    "area = (s*(s-a)*(s-b)*(s-c)) ** 0.5 \n",
    " \n",
    "Function to take the length of the sides of triangle from user should be defined in the parent class and function to calculate the area should be defined in subclass. "
   ]
  },
  {
   "cell_type": "code",
   "execution_count": 35,
   "metadata": {},
   "outputs": [
    {
     "name": "stdout",
     "output_type": "stream",
     "text": [
      "Enter length of the side3\n",
      "Enter length of the side3\n",
      "Enter length of the side4\n"
     ]
    },
    {
     "data": {
      "text/plain": [
       "4.47213595499958"
      ]
     },
     "execution_count": 35,
     "metadata": {},
     "output_type": "execute_result"
    }
   ],
   "source": [
    "class Polygon:\n",
    "    def __init__(self,n):\n",
    "        self.sides = n\n",
    "    def enter_sides(self):\n",
    "        self.sides_length = [int(input('Enter length of the side')) for i in range(self.sides)]  \n",
    "\n",
    "class AreaOfTriangle(Polygon):\n",
    "    def __init__(self,*args):\n",
    "        super(AreaOfTriangle,self).__init__(*args)\n",
    "    def Area(self):\n",
    "        a=self.sides_length[0]\n",
    "        b=self.sides_length[1]\n",
    "        c=self.sides_length[2]\n",
    "        s=(a+b+c)/2\n",
    "        return (s*(s-a)*(s-b)*(s-c)) ** 0.5\n",
    "a = AreaOfTriangle(3)\n",
    "a.enter_sides()\n",
    "a.Area()\n"
   ]
  },
  {
   "cell_type": "markdown",
   "metadata": {},
   "source": [
    "1.2 Write a function filter_long_words() that takes a list of words and an integer n and returns the list of words that are longer than n"
   ]
  },
  {
   "cell_type": "code",
   "execution_count": 17,
   "metadata": {},
   "outputs": [
    {
     "data": {
      "text/plain": [
       "['giraffe', 'elephant']"
      ]
     },
     "execution_count": 17,
     "metadata": {},
     "output_type": "execute_result"
    }
   ],
   "source": [
    "def filter_long_words(seq,n):\n",
    "    list = []\n",
    "    result = filter(lambda x : len(x) > n,seq)\n",
    "    for i in result:\n",
    "        list.append(i)\n",
    "    return list\n",
    "        \n",
    "list = ['cat','giraffe','elephant','dog']\n",
    "filter_long_words(list,3)"
   ]
  },
  {
   "cell_type": "markdown",
   "metadata": {},
   "source": [
    "2.1 Write a Python program using function concept that maps  list of words into a list of integers representing the lengths of the corresponding words​. \n",
    "\n",
    " Hint: ​If a list [ ab,cde,erty] is passed on to the python function output should come as [2,3,4] \n",
    " \n",
    " Here 2,3 and 4 are the lengths of the words in the list. "
   ]
  },
  {
   "cell_type": "code",
   "execution_count": 19,
   "metadata": {},
   "outputs": [
    {
     "data": {
      "text/plain": [
       "[2, 3, 4]"
      ]
     },
     "execution_count": 19,
     "metadata": {},
     "output_type": "execute_result"
    }
   ],
   "source": [
    "def map_func(seq):\n",
    "    list = []\n",
    "    result = map(lambda x : len(x),seq)\n",
    "    for i in result:\n",
    "        list.append(i)\n",
    "    return list\n",
    "list=['ab','cde','erty']\n",
    "map_func(list)"
   ]
  },
  {
   "cell_type": "markdown",
   "metadata": {},
   "source": [
    "2.2 Write a Python function which takes a character (i.e. a string of length 1) and returns True if it is a vowel, False otherwise. "
   ]
  },
  {
   "cell_type": "code",
   "execution_count": 24,
   "metadata": {},
   "outputs": [
    {
     "name": "stdout",
     "output_type": "stream",
     "text": [
      "True\n",
      "False\n"
     ]
    }
   ],
   "source": [
    "def isvowel(char):\n",
    "    vowels = ['a','e','i','o','u']\n",
    "    for item in vowels:\n",
    "        if(item == char):\n",
    "            return True\n",
    "        else:\n",
    "            return False\n",
    "print(isvowel('a'))\n",
    "print(isvowel('b'))"
   ]
  }
 ],
 "metadata": {
  "kernelspec": {
   "display_name": "Python 3",
   "language": "python",
   "name": "python3"
  },
  "language_info": {
   "codemirror_mode": {
    "name": "ipython",
    "version": 3
   },
   "file_extension": ".py",
   "mimetype": "text/x-python",
   "name": "python",
   "nbconvert_exporter": "python",
   "pygments_lexer": "ipython3",
   "version": "3.7.6"
  }
 },
 "nbformat": 4,
 "nbformat_minor": 4
}
